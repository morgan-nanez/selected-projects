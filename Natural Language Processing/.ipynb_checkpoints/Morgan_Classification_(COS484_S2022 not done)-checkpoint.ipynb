{
 "cells": [
  {
   "cell_type": "markdown",
   "metadata": {
    "id": "3VSjS_XAbjQI"
   },
   "source": [
    "# Notebook for Programming Question 2\n",
    "Welcome to the programming portion of the assignment! Each assignment throughout the semester will have a written portion and a programming portion. We will be using [Google Colab](https://colab.research.google.com/notebooks/intro.ipynb#recent=true), so if you have never used it before, take a quick look through this introduction: [Working with Google Colab](https://docs.google.com/document/d/1LlnXoOblXwW3YX-0yG_5seTXJsb3kRdMMRYqs8Qqum4/edit?usp=sharing).\n",
    "\n",
    "We'll also be programming in Python, which we will assume a basic familiarity with. Python has fantastic community support and we'll be using numerous packages for machine learning (ML) and natural language processing (NLP) tasks.\n",
    "\n",
    "### Learning Objectives\n",
    "In this problem we will implement logistic regression and test it on a sentiment analysis dataset.\n",
    "\n",
    "### Writing Code\n",
    "Look for the keyword \"TODO\" and fill in your code in the empty space."
   ]
  },
  {
   "cell_type": "markdown",
   "metadata": {
    "id": "AslCbBsMbol6"
   },
   "source": [
    "### Data preprocessing"
   ]
  },
  {
   "cell_type": "markdown",
   "metadata": {
    "id": "TOV13zuwihm6"
   },
   "source": [
    "#### Class and function for loading data"
   ]
  },
  {
   "cell_type": "code",
   "execution_count": 68,
   "metadata": {
    "id": "dlf4P1apdf-w"
   },
   "outputs": [],
   "source": [
    "# Import libraries\n",
    "import argparse\n",
    "import time\n",
    "\n",
    "# Define a class to store a single sentiment example\n",
    "class SentimentExample:\n",
    "    def __init__(self, words, label):\n",
    "        self.words = words\n",
    "        self.label = label\n",
    "\n",
    "    def __repr__(self):\n",
    "        return repr(self.words) + \"; label=\" + repr(self.label)\n",
    "\n",
    "    def __str__(self):\n",
    "        return self.__repr__()\n",
    "\n",
    "\n",
    "# Reads sentiment examples in the format [0 or 1]<TAB>[raw sentence]; tokenizes and cleans the sentences.\n",
    "def read_sentiment_examples(infile):\n",
    "    f = open(infile, encoding='iso8859')\n",
    "    exs = []\n",
    "    for line in f:\n",
    "            fields = line.strip().split(\" \")\n",
    "            label = 0 if \"0\" in fields[0] else 1\n",
    "            exs.append(SentimentExample(fields[1:], label))\n",
    "    f.close()\n",
    "    return exs"
   ]
  },
  {
   "cell_type": "code",
   "execution_count": 69,
   "metadata": {},
   "outputs": [
    {
     "name": "stdout",
     "output_type": "stream",
     "text": [
      "Requirement already satisfied: wget in /Library/Frameworks/Python.framework/Versions/3.11/lib/python3.11/site-packages (3.2)\n",
      "\n",
      "\u001b[1m[\u001b[0m\u001b[34;49mnotice\u001b[0m\u001b[1;39;49m]\u001b[0m\u001b[39;49m A new release of pip is available: \u001b[0m\u001b[31;49m23.2.1\u001b[0m\u001b[39;49m -> \u001b[0m\u001b[32;49m23.3.2\u001b[0m\n",
      "\u001b[1m[\u001b[0m\u001b[34;49mnotice\u001b[0m\u001b[1;39;49m]\u001b[0m\u001b[39;49m To update, run: \u001b[0m\u001b[32;49mpip3 install --upgrade pip\u001b[0m\n"
     ]
    }
   ],
   "source": [
    "!pip3 install wget\n"
   ]
  },
  {
   "cell_type": "markdown",
   "metadata": {
    "id": "manEehMeimHD"
   },
   "source": [
    "#### Download and load the data"
   ]
  },
  {
   "cell_type": "code",
   "execution_count": 70,
   "metadata": {
    "colab": {
     "base_uri": "https://localhost:8080/"
    },
    "id": "g2cvJYNyjlOy",
    "outputId": "8026b2c2-41dd-4ca1-e11e-3e8122810b08"
   },
   "outputs": [
    {
     "name": "stdout",
     "output_type": "stream",
     "text": [
      "  % Total    % Received % Xferd  Average Speed   Time    Time     Time  Current\n",
      "                                 Dload  Upload   Total   Spent    Left  Speed\n",
      "100  721k  100  721k    0     0  3052k      0 --:--:-- --:--:-- --:--:-- 3096k\n",
      "  % Total    % Received % Xferd  Average Speed   Time    Time     Time  Current\n",
      "                                 Dload  Upload   Total   Spent    Left  Speed\n",
      "100 94400  100 94400    0     0   756k      0 --:--:-- --:--:-- --:--:--  794k\n"
     ]
    }
   ],
   "source": [
    "!curl -O  https://princeton-nlp.github.io/cos484/assignments/a1/train.txt\n",
    "!curl -O  https://princeton-nlp.github.io/cos484/assignments/a1/dev.txt\n",
    "train_file = 'train.txt'\n",
    "dev_file = 'dev.txt'"
   ]
  },
  {
   "cell_type": "markdown",
   "metadata": {
    "id": "ulsaBn24p-LX"
   },
   "source": [
    "#### Indexer for examples\n",
    "This section contains code for an Indexer which is useful for creating a mapping between words and indices. It has already been implemented for you. Do read it and try to understand what the functions."
   ]
  },
  {
   "cell_type": "code",
   "execution_count": 71,
   "metadata": {
    "id": "Ck1X_FzPqMVk"
   },
   "outputs": [],
   "source": [
    "# Bijection between objects and integers starting at 0. Useful for mapping\n",
    "# labels, features, etc. into coordinates of a vector space.\n",
    "\n",
    "# This class creates a mapping between objects (here words) and unique indices\n",
    "# For example: apple->1, banana->2, and so on\n",
    "class Indexer(object):\n",
    "    def __init__(self):\n",
    "        self.objs_to_ints = {}\n",
    "        self.ints_to_objs = {}\n",
    "\n",
    "    def __repr__(self):\n",
    "        return str([str(self.get_object(i)) for i in range(0, len(self))])\n",
    "\n",
    "    def __str__(self):\n",
    "        return self.__repr__()\n",
    "\n",
    "    def __len__(self):\n",
    "        return len(self.objs_to_ints)\n",
    "\n",
    "    # Returns the object corresponding to the particular index\n",
    "    def get_object(self, index):\n",
    "        if (index not in self.ints_to_objs):\n",
    "            return None\n",
    "        else:\n",
    "            return self.ints_to_objs[index]\n",
    "\n",
    "    def contains(self, object):\n",
    "        return self.index_of(object) != -1\n",
    "\n",
    "    # Returns -1 if the object isn't present, index otherwise\n",
    "    def index_of(self, object):\n",
    "        if (object not in self.objs_to_ints):\n",
    "            return -1\n",
    "        else:\n",
    "            return self.objs_to_ints[object]\n",
    "\n",
    "    # Adds the object to the index if it isn't present, always returns a nonnegative index\n",
    "    def add_and_get_index(self, object, add=True):\n",
    "        if not add:\n",
    "            return self.index_of(object)\n",
    "        if (object not in self.objs_to_ints):\n",
    "            new_idx = len(self.objs_to_ints)\n",
    "            self.objs_to_ints[object] = new_idx\n",
    "            self.ints_to_objs[new_idx] = object\n",
    "        return self.objs_to_ints[object]"
   ]
  },
  {
   "cell_type": "code",
   "execution_count": 72,
   "metadata": {
    "colab": {
     "base_uri": "https://localhost:8080/"
    },
    "id": "uIN8X-vpkeBh",
    "outputId": "1327dacd-5783-456d-e02a-2157a41ab0b6"
   },
   "outputs": [
    {
     "name": "stdout",
     "output_type": "stream",
     "text": [
      "6920 train examples: 3610 positive, 3310 negative\n",
      "872 dev examples\n"
     ]
    }
   ],
   "source": [
    "# Load the data from the files\n",
    "train_exs = read_sentiment_examples(train_file)\n",
    "dev_exs = read_sentiment_examples(dev_file)\n",
    "n_pos = 0\n",
    "n_neg = 0\n",
    "for ex in train_exs:\n",
    "    if ex.label == 1:\n",
    "        n_pos += 1\n",
    "    else:\n",
    "        n_neg += 1\n",
    "print(\"%d train examples: %d positive, %d negative\" % (len(train_exs), n_pos, n_neg))\n",
    "print(\"%d dev examples\" % len(dev_exs))"
   ]
  },
  {
   "cell_type": "code",
   "execution_count": 73,
   "metadata": {},
   "outputs": [
    {
     "data": {
      "text/plain": [
       "['there', 'is', 'a', 'freedom', 'to', 'watching', 'stunts', 'that', 'are', 'this', 'crude', ',', 'this', 'fast-paced', 'and', 'this', 'insane', '.']; label=1"
      ]
     },
     "execution_count": 73,
     "metadata": {},
     "output_type": "execute_result"
    }
   ],
   "source": [
    "train_exs[15]"
   ]
  },
  {
   "cell_type": "markdown",
   "metadata": {
    "id": "aaC07CdvlB-9"
   },
   "source": [
    "### Define Logistic Regression model"
   ]
  },
  {
   "cell_type": "code",
   "execution_count": 74,
   "metadata": {
    "id": "u0b4C1DImvuM"
   },
   "outputs": [],
   "source": [
    "# Import libraries\n",
    "from collections import Counter\n",
    "from typing import List\n",
    "import numpy as np\n",
    "import math"
   ]
  },
  {
   "cell_type": "markdown",
   "metadata": {
    "id": "pSCzfcnMjm-r"
   },
   "source": [
    "#### Define feature extractors"
   ]
  },
  {
   "cell_type": "code",
   "execution_count": 75,
   "metadata": {
    "id": "_eGn0zEOnLOq"
   },
   "outputs": [],
   "source": [
    "# Feature extraction base type. Takes an example and returns an indexed list of features.\n",
    "class FeatureExtractor(object):\n",
    "    # Extract features. Includes a flag add_to_indexer to control whether the indexer should be expanded.\n",
    "    # At test time, any unseen features should be discarded, but at train time, we probably want to keep growing it.\n",
    "    def extract_features(self, ex, add_to_indexer):\n",
    "        raise Exception(\"Don't call me, call my subclasses\")\n",
    "\n",
    "\n",
    "# Extracts unigram bag-of-words features from a sentence. It's up to you to decide how you want to handle counts\n",
    "class UnigramFeatureExtractor(FeatureExtractor):\n",
    "    def __init__(self, indexer: Indexer):\n",
    "        self.indexer = indexer\n",
    "\n",
    "    def extract_features(self, ex, add_to_indexer=False):\n",
    "        features = Counter()\n",
    "        for w in ex.words:\n",
    "            feat_idx = self.indexer.add_and_get_index(w) \\\n",
    "                if add_to_indexer else self.indexer.index_of(w)\n",
    "            if feat_idx != -1:\n",
    "                features[feat_idx] += 1.0\n",
    "        return features\n",
    "\n",
    "\n",
    "# Bigram feature extractor analogous to the unigram one.\n",
    "class BigramFeatureExtractor(FeatureExtractor):\n",
    "    def __init__(self, indexer: Indexer):\n",
    "        self.indexer = indexer\n",
    "\n",
    "    def extract_features(self, ex, add_to_indexer=False):\n",
    "        features = Counter()\n",
    "        for i in range(len(ex.words) - 1):\n",
    "            w = ex.words[i] + \"||\" + ex.words[i + 1]\n",
    "            feat_idx = self.indexer.add_and_get_index(w) \\\n",
    "                if add_to_indexer else self.indexer.index_of(w)\n",
    "            if feat_idx != -1:\n",
    "                features[feat_idx] += 1.0\n",
    "        return features"
   ]
  },
  {
   "cell_type": "markdown",
   "metadata": {
    "id": "VLEP8hSXnvP5"
   },
   "source": [
    "#### Define base classifiers"
   ]
  },
  {
   "cell_type": "code",
   "execution_count": 76,
   "metadata": {
    "id": "7CgFsVR4nyGN"
   },
   "outputs": [],
   "source": [
    "# Sentiment classifier base type\n",
    "class SentimentClassifier(object):\n",
    "    # Makes a prediction for the given\n",
    "    def predict(self, ex: SentimentExample):\n",
    "        raise Exception(\"Don't call me, call my subclasses\")\n",
    "\n",
    "# Always predicts the positive class\n",
    "class AlwaysPositiveClassifier(SentimentClassifier):\n",
    "    def predict(self, ex: SentimentExample):\n",
    "        return 1"
   ]
  },
  {
   "cell_type": "code",
   "execution_count": 77,
   "metadata": {},
   "outputs": [
    {
     "ename": "SyntaxError",
     "evalue": "invalid syntax (1188585304.py, line 1)",
     "output_type": "error",
     "traceback": [
      "\u001b[0;36m  Cell \u001b[0;32mIn[77], line 1\u001b[0;36m\u001b[0m\n\u001b[0;31m    old train :\u001b[0m\n\u001b[0m        ^\u001b[0m\n\u001b[0;31mSyntaxError\u001b[0m\u001b[0;31m:\u001b[0m invalid syntax\n"
     ]
    }
   ],
   "source": [
    "old train :         \n",
    "      \n",
    "        # STEP 1: Write a 'for' loop which iterates over the dataset num_iters times\n",
    "        for iter in range(num_iters):\n",
    "        \n",
    "        # STEP 2: Write an inner 'for' loop for each step of gradient descent\n",
    "        # You can use stochastic gradient descent or mini-batch SGD\n",
    "            batch = np.random.random_integers(0, len(train_examples)-1,1000)\n",
    "            for b in batch:\n",
    "                train_ex = train_examples[b]\n",
    "                y_prime = self.predict(train_ex, test=False)\n",
    "                y = train_ex.label\n",
    "\n",
    "                one_hot = np.zeros(self.corpus_length)\n",
    "                input_feature = self.feat_extractor.extract_features(train_ex, add_to_indexer =True)\n",
    "                input_feature_indexes = np.asarray(list(input_feature.keys()))\n",
    "                one_hot[input_feature_indexes] = 1#np.asarray(list(input_feature.values()))\n",
    "\n",
    "              #  print(one_hot)\n",
    "\n",
    "              \n",
    "                dw =  np.dot(one_hot.T, y_prime-y) + reg_lambda**2\n",
    "                db =  y_prime-y\n",
    "\n",
    "\n",
    "                #print(y_prime)"
   ]
  },
  {
   "cell_type": "markdown",
   "metadata": {
    "id": "fKEB5sYeodoh"
   },
   "source": [
    "#### Logistic Regression class"
   ]
  },
  {
   "cell_type": "code",
   "execution_count": 101,
   "metadata": {
    "id": "Kcp4Wkbqoiuu"
   },
   "outputs": [],
   "source": [
    "class LogisticRegressionClassifier(SentimentClassifier):\n",
    "    def __init__(self, feat_extractor: FeatureExtractor, train_examples, num_iters=50, reg_lambda=0.0, learning_rate=0.1):\n",
    "        # TODO: Initialize the logistic regression model\n",
    "        \n",
    "        # Arguments: feat_extractor is unigram or bigram, train_examples is train dataset\n",
    "        # num_iters is the number of epochs, reg_lambda is the regularization parameter\n",
    "        # learning_rate is the learning rate used in gradient descent\n",
    "        \n",
    "        # STEP 1: Define variables for weights and biases, and initialize them\n",
    "        self.corpus_length = len(feat_extractor.indexer)\n",
    "        self.weights = np.ones(self.corpus_length)*0.5 #size of vocabulary\n",
    "        self.bias = np.ones(self.corpus_length)*0.5\n",
    "        self.feat_extractor = feat_extractor\n",
    "\n",
    "        \n",
    "        # STEP 2: Call the train() function. (This has already been done for you)\n",
    "\n",
    "        ##### SOLUTION START #####\n",
    "\n",
    "\n",
    "        ##### SOLUTION END #####\n",
    "\n",
    "        self.train(feat_extractor, train_examples, num_iters, reg_lambda, learning_rate)\n",
    "\n",
    "    def train(self, feat_extractor: FeatureExtractor, train_examples, num_iters=50, reg_lambda=0.0, learning_rate=0.1):\n",
    "        # TODO: Function for training the logistic regression mode\n",
    "\n",
    "\n",
    "        for iter in range(num_iters):\n",
    "        # Use mini-batch SGD\n",
    "            batch_size = 10\n",
    "            num_batches = len(train_examples) // batch_size\n",
    "    \n",
    "            for _ in range(num_batches):\n",
    "                # Randomly select a batch\n",
    "                batch_indices = np.random.choice(len(train_examples), size=batch_size, replace=False)\n",
    "                batch_examples = [train_examples[i] for i in batch_indices]\n",
    "    \n",
    "                # Initialize gradients\n",
    "                dw = np.zeros(self.corpus_length)\n",
    "                db = 0.0\n",
    "    \n",
    "                for train_ex in batch_examples:\n",
    "                    y_prime = self.predict(train_ex, test=False)\n",
    "                    y = train_ex.label\n",
    "    \n",
    "                    one_hot = np.zeros(self.corpus_length)\n",
    "                    input_feature = feat_extractor.extract_features(train_ex, add_to_indexer=True)\n",
    "                    input_feature_indexes = np.asarray(list(input_feature.keys()))\n",
    "                    one_hot[input_feature_indexes] = 1\n",
    "    \n",
    "                    # Compute gradients\n",
    "                    dw += np.dot(one_hot, y_prime - y) + reg_lambda * self.weights\n",
    "                    db += y_prime - y\n",
    "    \n",
    "                # Update weights and biases using the mean of the gradients\n",
    "                self.weights -= learning_rate * (dw / batch_size)\n",
    "                self.bias -= learning_rate * (db / batch_size)\n",
    "\n",
    "     \n",
    "\n",
    "        # You can use stochastic gradient descent or mini-batch SGD\n",
    "        \n",
    "        # STEP 3: In each step of gradient descent apply the update rule\n",
    "        # to weights and biases\n",
    "                self.weights -= learning_rate*dw\n",
    "                self.bias -= learning_rate*db  \n",
    "\n",
    "        ##### SOLUTION START #####\n",
    "\n",
    "        ##### SOLUTION END #####        \n",
    "\n",
    "    def predict(self, ex, test=True):\n",
    "        # TODO: Logistic regression model's prediction for a single example\n",
    "        \n",
    "        ##### SOLUTION START #####\n",
    "\n",
    "        one_hot = np.zeros(self.corpus_length)\n",
    "        input_feature = self.feat_extractor.extract_features(ex)\n",
    "        input_feature_indexes = np.asarray(list(input_feature.keys()))\n",
    "        if len(input_feature_indexes) < 1:\n",
    "            return 0\n",
    "            \n",
    "        one_hot[input_feature_indexes] = 1#np.asarray(list(input_feature.values()))\n",
    "\n",
    "        #compute wTx\n",
    "        pre_sig = np.dot(one_hot, self.weights) + self.bias\n",
    "       # print(pre_sig.shape)\n",
    "       # print(pre_sig)\n",
    "        t = np.mean(1 /(1+np.exp(-pre_sig)))\n",
    "        #print(np.mean(t))\n",
    "\n",
    "        if test:\n",
    "            return 1 if t >= 0.5 else 0\n",
    "        else:\n",
    "            return t\n",
    "\n",
    "        #retur sigmoid(wt*x + b)\n",
    "        #return np.mean(1 / (1+np.exp(-pre_sig)))\n",
    "\n",
    "\n",
    "\n",
    "        ##### SOLUTION END #####"
   ]
  },
  {
   "cell_type": "code",
   "execution_count": 102,
   "metadata": {
    "id": "mjqSmMtGZdxF"
   },
   "outputs": [],
   "source": [
    "#unigram model should be high for 70 (dev) 99 for train\n",
    "#bigram model should be higher than 60,, maybe 75?\n",
    "\n"
   ]
  },
  {
   "cell_type": "markdown",
   "metadata": {
    "id": "cesGHOCipwgL"
   },
   "source": [
    "#### Training function for logistic regression"
   ]
  },
  {
   "cell_type": "code",
   "execution_count": 103,
   "metadata": {
    "id": "NLwZpsU3qC31"
   },
   "outputs": [],
   "source": [
    "# Train a logsitic regression model on the given training examples using the given FeatureExtractor\n",
    "def train_lr(train_exs: List[SentimentExample], feat_extractor: FeatureExtractor, reg_lambda, learning_rate = 0.1) -> LogisticRegressionClassifier:\n",
    "    # TODO: Function for training logistic regression model.\n",
    "    # Populate the feature_extractor.\n",
    "    # Initialize and return an object of instance LogisticRegressionClassifier\n",
    "    \n",
    "    ##### SOLUTION START #####\n",
    "\n",
    "    #populate feature extractor\n",
    "    for train in train_exs:\n",
    "        feat_extractor.extract_features(train, add_to_indexer=True)\n",
    "\n",
    "    # Initialize and return an object of instance LogisticRegressionClassifier\n",
    "    log_classifier = LogisticRegressionClassifier(feat_extractor, train_exs, learning_rate = learning_rate)\n",
    "    return log_classifier\n",
    "\n",
    "\n",
    "    ##### SOLUTION END #####"
   ]
  },
  {
   "cell_type": "code",
   "execution_count": 104,
   "metadata": {
    "id": "xMHrP9X7qItd"
   },
   "outputs": [],
   "source": [
    "# Main entry point for your modifications. Trains and returns one of several models depending on the options passed\n",
    "def train_model(feature_type, model_type, train_exs, reg_lambda=0.0, learning_rate = 0.1):\n",
    "    print(reg_lambda)\n",
    "    # Initialize feature extractor\n",
    "    if feature_type == \"unigram\":\n",
    "        # Add additional preprocessing code here\n",
    "        feat_extractor = UnigramFeatureExtractor(Indexer())\n",
    "    elif feature_type == \"bigram\":\n",
    "        # Add additional preprocessing code here\n",
    "        feat_extractor = BigramFeatureExtractor(Indexer())\n",
    "    else:\n",
    "        raise Exception(\"Pass unigram or bigram\")\n",
    "\n",
    "    # Train the model\n",
    "    if model_type == \"AlwaysPositive\":\n",
    "        model = AlwaysPositiveClassifier()\n",
    "    elif model_type == \"LogisticRegression\":\n",
    "        model = train_lr(train_exs, feat_extractor, reg_lambda=reg_lambda)\n",
    "    else:\n",
    "        raise Exception(\"Pass AlwaysPositive or LogisticRegression\")\n",
    "    return model"
   ]
  },
  {
   "cell_type": "markdown",
   "metadata": {
    "id": "ZO3EqbavuJpz"
   },
   "source": [
    "### Functions for evaluating the model"
   ]
  },
  {
   "cell_type": "code",
   "execution_count": 105,
   "metadata": {
    "id": "mgTqmbGcuM3f"
   },
   "outputs": [],
   "source": [
    "# Evaluates a given classifier on the given examples\n",
    "def evaluate(classifier, exs):\n",
    "    #print(classifier, exs)\n",
    "    return print_evaluation([ex.label for ex in exs], [classifier.predict(ex) for ex in exs])\n",
    "\n",
    "\n",
    "# Prints accuracy comparing golds and predictions, each of which is a sequence of 0/1 labels.\n",
    "def print_evaluation(golds, predictions):\n",
    "    num_correct = 0\n",
    "    num_pos_correct = 0\n",
    "    num_pred = 0\n",
    "    num_gold = 0\n",
    "    num_total = 0\n",
    "    if len(golds) != len(predictions):\n",
    "        raise Exception(\"Mismatched gold/pred lengths: %i / %i\" %\n",
    "                        (len(golds), len(predictions)))\n",
    "    for idx in range(0, len(golds)):\n",
    "        gold = golds[idx]\n",
    "        prediction = predictions[idx]\n",
    "        if prediction == gold:\n",
    "            num_correct += 1\n",
    "        if prediction == 1:\n",
    "            num_pred += 1\n",
    "        if gold == 1:\n",
    "            num_gold += 1\n",
    "        if prediction == 1 and gold == 1:\n",
    "            num_pos_correct += 1\n",
    "        num_total += 1\n",
    "\n",
    "    print(\"Accuracy: %i / %i = %.2f %%\" %\n",
    "          (num_correct, num_total,\n",
    "           num_correct * 100.0 / num_total))\n",
    "    return num_correct * 100.0 / num_total\n",
    "    \n",
    "# Evaluate on train and dev dataset\n",
    "def eval_train_dev(model):\n",
    "    print(\"===== Train Accuracy =====\")\n",
    "    train_acc = evaluate(model, train_exs)\n",
    "    print(\"===== Dev Accuracy =====\")\n",
    "    eval_acc = evaluate(model, dev_exs)\n",
    "    return [train_acc, eval_acc]"
   ]
  },
  {
   "cell_type": "markdown",
   "metadata": {
    "id": "nwrQ1_lHv-Co"
   },
   "source": [
    "### Unigram vs Bigram"
   ]
  },
  {
   "cell_type": "code",
   "execution_count": 83,
   "metadata": {
    "colab": {
     "base_uri": "https://localhost:8080/"
    },
    "id": "Z1KNbz32wwws",
    "outputId": "acfebd0f-fc7d-40af-a828-ca10d1864db7"
   },
   "outputs": [
    {
     "name": "stdout",
     "output_type": "stream",
     "text": [
      "0.0\n",
      "===== Train Accuracy =====\n",
      "Accuracy: 6899 / 6920 = 99.70 %\n",
      "===== Dev Accuracy =====\n",
      "Accuracy: 679 / 872 = 77.87 %\n"
     ]
    },
    {
     "data": {
      "text/plain": [
       "[99.69653179190752, 77.86697247706422]"
      ]
     },
     "execution_count": 83,
     "metadata": {},
     "output_type": "execute_result"
    }
   ],
   "source": [
    "# Evaluate logistic regression with unigram features\n",
    "unigram_model = train_model('unigram', 'LogisticRegression', train_exs)\n",
    "eval_train_dev(unigram_model)"
   ]
  },
  {
   "cell_type": "code",
   "execution_count": 84,
   "metadata": {
    "colab": {
     "base_uri": "https://localhost:8080/",
     "height": 450
    },
    "id": "wF2xxlx2roLC",
    "outputId": "dead2bf2-7589-4427-e7d3-d6d5ab9b2865"
   },
   "outputs": [
    {
     "name": "stdout",
     "output_type": "stream",
     "text": [
      "0.0\n",
      "===== Train Accuracy =====\n",
      "Accuracy: 6920 / 6920 = 100.00 %\n",
      "===== Dev Accuracy =====\n",
      "Accuracy: 560 / 872 = 64.22 %\n"
     ]
    },
    {
     "data": {
      "text/plain": [
       "[100.0, 64.22018348623853]"
      ]
     },
     "execution_count": 84,
     "metadata": {},
     "output_type": "execute_result"
    }
   ],
   "source": [
    "# Evaluate logistic regression with bigram features\n",
    "unigram_model = train_model('bigram', 'LogisticRegression', train_exs)\n",
    "eval_train_dev(unigram_model)"
   ]
  },
  {
   "cell_type": "markdown",
   "metadata": {},
   "source": [
    "### Response 2a\n",
    "Unigram and bigram accuracies printed above. I found that both tested very high for the trainng set, leading me to believe there may be some overfitting at hand. I found that, on the test set, that unigram preformed higher on the unigram model "
   ]
  },
  {
   "cell_type": "markdown",
   "metadata": {
    "id": "4jnCD2esA5Aa"
   },
   "source": [
    "### Logistic regression with regularization"
   ]
  },
  {
   "cell_type": "code",
   "execution_count": 107,
   "metadata": {
    "colab": {
     "base_uri": "https://localhost:8080/"
    },
    "id": "YgSNsC5kA9Gs",
    "outputId": "9a99aa75-d5fc-4522-f858-689393056c5a"
   },
   "outputs": [
    {
     "name": "stdout",
     "output_type": "stream",
     "text": [
      "0.001\n",
      "0.1\n",
      "===== Train Accuracy =====\n",
      "Accuracy: 6890 / 6920 = 99.57 %\n",
      "===== Dev Accuracy =====\n",
      "Accuracy: 671 / 872 = 76.95 %\n",
      "0.1\n",
      "===== Train Accuracy =====\n",
      "Accuracy: 6920 / 6920 = 100.00 %\n",
      "===== Dev Accuracy =====\n",
      "Accuracy: 555 / 872 = 63.65 %\n",
      "0.01\n",
      "0.1\n",
      "===== Train Accuracy =====\n",
      "Accuracy: 6901 / 6920 = 99.73 %\n",
      "===== Dev Accuracy =====\n",
      "Accuracy: 672 / 872 = 77.06 %\n",
      "0.1\n",
      "===== Train Accuracy =====\n",
      "Accuracy: 6920 / 6920 = 100.00 %\n",
      "===== Dev Accuracy =====\n",
      "Accuracy: 556 / 872 = 63.76 %\n",
      "0.05\n",
      "0.1\n",
      "===== Train Accuracy =====\n",
      "Accuracy: 6887 / 6920 = 99.52 %\n",
      "===== Dev Accuracy =====\n",
      "Accuracy: 674 / 872 = 77.29 %\n",
      "0.1\n",
      "===== Train Accuracy =====\n",
      "Accuracy: 6920 / 6920 = 100.00 %\n",
      "===== Dev Accuracy =====\n",
      "Accuracy: 556 / 872 = 63.76 %\n",
      "0.1\n",
      "0.1\n",
      "===== Train Accuracy =====\n",
      "Accuracy: 6897 / 6920 = 99.67 %\n",
      "===== Dev Accuracy =====\n",
      "Accuracy: 672 / 872 = 77.06 %\n",
      "0.1\n",
      "===== Train Accuracy =====\n",
      "Accuracy: 6920 / 6920 = 100.00 %\n",
      "===== Dev Accuracy =====\n",
      "Accuracy: 559 / 872 = 64.11 %\n",
      "0.5\n",
      "0.1\n",
      "===== Train Accuracy =====\n",
      "Accuracy: 6892 / 6920 = 99.60 %\n",
      "===== Dev Accuracy =====\n",
      "Accuracy: 674 / 872 = 77.29 %\n",
      "0.1\n",
      "===== Train Accuracy =====\n",
      "Accuracy: 6920 / 6920 = 100.00 %\n",
      "===== Dev Accuracy =====\n",
      "Accuracy: 559 / 872 = 64.11 %\n",
      "1\n",
      "0.1\n",
      "===== Train Accuracy =====\n",
      "Accuracy: 6902 / 6920 = 99.74 %\n",
      "===== Dev Accuracy =====\n",
      "Accuracy: 672 / 872 = 77.06 %\n",
      "0.1\n",
      "===== Train Accuracy =====\n",
      "Accuracy: 6920 / 6920 = 100.00 %\n",
      "===== Dev Accuracy =====\n",
      "Accuracy: 559 / 872 = 64.11 %\n",
      "10\n",
      "0.1\n",
      "===== Train Accuracy =====\n",
      "Accuracy: 6897 / 6920 = 99.67 %\n",
      "===== Dev Accuracy =====\n",
      "Accuracy: 674 / 872 = 77.29 %\n",
      "0.1\n"
     ]
    },
    {
     "ename": "KeyboardInterrupt",
     "evalue": "",
     "output_type": "error",
     "traceback": [
      "\u001b[0;31m---------------------------------------------------------------------------\u001b[0m",
      "\u001b[0;31mKeyboardInterrupt\u001b[0m                         Traceback (most recent call last)",
      "Cell \u001b[0;32mIn[107], line 20\u001b[0m\n\u001b[1;32m     17\u001b[0m uni_train_accs\u001b[38;5;241m.\u001b[39mappend(train_acc)\n\u001b[1;32m     18\u001b[0m uni_dev_accs\u001b[38;5;241m.\u001b[39mappend(dev_acc)\n\u001b[0;32m---> 20\u001b[0m bigram_model \u001b[38;5;241m=\u001b[39m \u001b[43mtrain_model\u001b[49m\u001b[43m(\u001b[49m\u001b[38;5;124;43m'\u001b[39;49m\u001b[38;5;124;43mbigram\u001b[39;49m\u001b[38;5;124;43m'\u001b[39;49m\u001b[43m,\u001b[49m\u001b[43m \u001b[49m\u001b[38;5;124;43m'\u001b[39;49m\u001b[38;5;124;43mLogisticRegression\u001b[39;49m\u001b[38;5;124;43m'\u001b[39;49m\u001b[43m,\u001b[49m\u001b[43m \u001b[49m\u001b[43mtrain_exs\u001b[49m\u001b[43m,\u001b[49m\u001b[43mreg_lambda\u001b[49m\u001b[38;5;241;43m=\u001b[39;49m\u001b[38;5;241;43m0.1\u001b[39;49m\u001b[43m,\u001b[49m\u001b[43m \u001b[49m\u001b[43mlearning_rate\u001b[49m\u001b[43m \u001b[49m\u001b[38;5;241;43m=\u001b[39;49m\u001b[43m \u001b[49m\u001b[43mr\u001b[49m\u001b[43m)\u001b[49m\n\u001b[1;32m     21\u001b[0m train_acc, dev_acc \u001b[38;5;241m=\u001b[39m eval_train_dev(bigram_model)\n\u001b[1;32m     23\u001b[0m bi_train_accs\u001b[38;5;241m.\u001b[39mappend(train_acc)\n",
      "Cell \u001b[0;32mIn[104], line 18\u001b[0m, in \u001b[0;36mtrain_model\u001b[0;34m(feature_type, model_type, train_exs, reg_lambda, learning_rate)\u001b[0m\n\u001b[1;32m     16\u001b[0m     model \u001b[38;5;241m=\u001b[39m AlwaysPositiveClassifier()\n\u001b[1;32m     17\u001b[0m \u001b[38;5;28;01melif\u001b[39;00m model_type \u001b[38;5;241m==\u001b[39m \u001b[38;5;124m\"\u001b[39m\u001b[38;5;124mLogisticRegression\u001b[39m\u001b[38;5;124m\"\u001b[39m:\n\u001b[0;32m---> 18\u001b[0m     model \u001b[38;5;241m=\u001b[39m \u001b[43mtrain_lr\u001b[49m\u001b[43m(\u001b[49m\u001b[43mtrain_exs\u001b[49m\u001b[43m,\u001b[49m\u001b[43m \u001b[49m\u001b[43mfeat_extractor\u001b[49m\u001b[43m,\u001b[49m\u001b[43m \u001b[49m\u001b[43mreg_lambda\u001b[49m\u001b[38;5;241;43m=\u001b[39;49m\u001b[43mreg_lambda\u001b[49m\u001b[43m)\u001b[49m\n\u001b[1;32m     19\u001b[0m \u001b[38;5;28;01melse\u001b[39;00m:\n\u001b[1;32m     20\u001b[0m     \u001b[38;5;28;01mraise\u001b[39;00m \u001b[38;5;167;01mException\u001b[39;00m(\u001b[38;5;124m\"\u001b[39m\u001b[38;5;124mPass AlwaysPositive or LogisticRegression\u001b[39m\u001b[38;5;124m\"\u001b[39m)\n",
      "Cell \u001b[0;32mIn[103], line 14\u001b[0m, in \u001b[0;36mtrain_lr\u001b[0;34m(train_exs, feat_extractor, reg_lambda, learning_rate)\u001b[0m\n\u001b[1;32m     11\u001b[0m     feat_extractor\u001b[38;5;241m.\u001b[39mextract_features(train, add_to_indexer\u001b[38;5;241m=\u001b[39m\u001b[38;5;28;01mTrue\u001b[39;00m)\n\u001b[1;32m     13\u001b[0m \u001b[38;5;66;03m# Initialize and return an object of instance LogisticRegressionClassifier\u001b[39;00m\n\u001b[0;32m---> 14\u001b[0m log_classifier \u001b[38;5;241m=\u001b[39m \u001b[43mLogisticRegressionClassifier\u001b[49m\u001b[43m(\u001b[49m\u001b[43mfeat_extractor\u001b[49m\u001b[43m,\u001b[49m\u001b[43m \u001b[49m\u001b[43mtrain_exs\u001b[49m\u001b[43m,\u001b[49m\u001b[43m \u001b[49m\u001b[43mlearning_rate\u001b[49m\u001b[43m \u001b[49m\u001b[38;5;241;43m=\u001b[39;49m\u001b[43m \u001b[49m\u001b[43mlearning_rate\u001b[49m\u001b[43m)\u001b[49m\n\u001b[1;32m     15\u001b[0m \u001b[38;5;28;01mreturn\u001b[39;00m log_classifier\n",
      "Cell \u001b[0;32mIn[101], line 23\u001b[0m, in \u001b[0;36mLogisticRegressionClassifier.__init__\u001b[0;34m(self, feat_extractor, train_examples, num_iters, reg_lambda, learning_rate)\u001b[0m\n\u001b[1;32m     13\u001b[0m \u001b[38;5;28mself\u001b[39m\u001b[38;5;241m.\u001b[39mfeat_extractor \u001b[38;5;241m=\u001b[39m feat_extractor\n\u001b[1;32m     16\u001b[0m \u001b[38;5;66;03m# STEP 2: Call the train() function. (This has already been done for you)\u001b[39;00m\n\u001b[1;32m     17\u001b[0m \n\u001b[1;32m     18\u001b[0m \u001b[38;5;66;03m##### SOLUTION START #####\u001b[39;00m\n\u001b[1;32m     19\u001b[0m \n\u001b[1;32m     20\u001b[0m \n\u001b[1;32m     21\u001b[0m \u001b[38;5;66;03m##### SOLUTION END #####\u001b[39;00m\n\u001b[0;32m---> 23\u001b[0m \u001b[38;5;28;43mself\u001b[39;49m\u001b[38;5;241;43m.\u001b[39;49m\u001b[43mtrain\u001b[49m\u001b[43m(\u001b[49m\u001b[43mfeat_extractor\u001b[49m\u001b[43m,\u001b[49m\u001b[43m \u001b[49m\u001b[43mtrain_examples\u001b[49m\u001b[43m,\u001b[49m\u001b[43m \u001b[49m\u001b[43mnum_iters\u001b[49m\u001b[43m,\u001b[49m\u001b[43m \u001b[49m\u001b[43mreg_lambda\u001b[49m\u001b[43m,\u001b[49m\u001b[43m \u001b[49m\u001b[43mlearning_rate\u001b[49m\u001b[43m)\u001b[49m\n",
      "Cell \u001b[0;32mIn[101], line 53\u001b[0m, in \u001b[0;36mLogisticRegressionClassifier.train\u001b[0;34m(self, feat_extractor, train_examples, num_iters, reg_lambda, learning_rate)\u001b[0m\n\u001b[1;32m     50\u001b[0m     one_hot[input_feature_indexes] \u001b[38;5;241m=\u001b[39m \u001b[38;5;241m1\u001b[39m\n\u001b[1;32m     52\u001b[0m     \u001b[38;5;66;03m# Compute gradients\u001b[39;00m\n\u001b[0;32m---> 53\u001b[0m     dw \u001b[38;5;241m+\u001b[39m\u001b[38;5;241m=\u001b[39m \u001b[43mnp\u001b[49m\u001b[38;5;241;43m.\u001b[39;49m\u001b[43mdot\u001b[49m\u001b[43m(\u001b[49m\u001b[43mone_hot\u001b[49m\u001b[43m,\u001b[49m\u001b[43m \u001b[49m\u001b[43my_prime\u001b[49m\u001b[43m \u001b[49m\u001b[38;5;241;43m-\u001b[39;49m\u001b[43m \u001b[49m\u001b[43my\u001b[49m\u001b[43m)\u001b[49m \u001b[38;5;241m+\u001b[39m reg_lambda \u001b[38;5;241m*\u001b[39m \u001b[38;5;28mself\u001b[39m\u001b[38;5;241m.\u001b[39mweights\n\u001b[1;32m     54\u001b[0m     db \u001b[38;5;241m+\u001b[39m\u001b[38;5;241m=\u001b[39m y_prime \u001b[38;5;241m-\u001b[39m y\n\u001b[1;32m     56\u001b[0m \u001b[38;5;66;03m# Update weights and biases using the mean of the gradients\u001b[39;00m\n",
      "\u001b[0;31mKeyboardInterrupt\u001b[0m: "
     ]
    }
   ],
   "source": [
    "# TODO: Experiment with different regularization parameters and plot train and dev accuracies\n",
    "# You can either hard code the values or,\n",
    "# write a loop that calculates accuracies for different parameters\n",
    "regs = [0.001,0.01, 0.05, 0.1, 0.5, 1, 10]\n",
    "\n",
    "uni_train_accs =[]\n",
    "bi_dev_accs = []\n",
    "\n",
    "bi_train_accs =[]\n",
    "uni_dev_accs = []\n",
    "\n",
    "for r in regs:\n",
    "    print(r)\n",
    "    unigram_model = train_model('unigram', 'LogisticRegression', train_exs,reg_lambda=0.1,learning_rate = r)\n",
    "    train_acc, dev_acc = eval_train_dev(unigram_model)\n",
    "\n",
    "    uni_train_accs.append(train_acc)\n",
    "    uni_dev_accs.append(dev_acc)\n",
    "\n",
    "    bigram_model = train_model('bigram', 'LogisticRegression', train_exs,reg_lambda=0.1, learning_rate = r)\n",
    "    train_acc, dev_acc = eval_train_dev(bigram_model)\n",
    "\n",
    "    bi_train_accs.append(train_acc)\n",
    "    bi_dev_accs.append(dev_acc)\n",
    "\n",
    "\n",
    "\n",
    "### SOLUTION START ###\n",
    "\n",
    "### SOLUTION END ###"
   ]
  },
  {
   "cell_type": "code",
   "execution_count": 86,
   "metadata": {},
   "outputs": [
    {
     "data": {
      "text/plain": [
       "([99.6820809248555,\n",
       "  99.63872832369943,\n",
       "  99.6820809248555,\n",
       "  99.73988439306359,\n",
       "  99.63872832369943,\n",
       "  99.65317919075144,\n",
       "  99.66763005780346,\n",
       "  99.63872832369943],\n",
       " [0.001, 0.01, 0.05, 0.1, 0.5, 1, 10, 100])"
      ]
     },
     "execution_count": 86,
     "metadata": {},
     "output_type": "execute_result"
    }
   ],
   "source": [
    "uni_train_accs, regs"
   ]
  },
  {
   "cell_type": "code",
   "execution_count": 87,
   "metadata": {},
   "outputs": [
    {
     "name": "stdout",
     "output_type": "stream",
     "text": [
      "Requirement already satisfied: matplotlib in /Library/Frameworks/Python.framework/Versions/3.11/lib/python3.11/site-packages (3.8.2)\n",
      "Requirement already satisfied: contourpy>=1.0.1 in /Library/Frameworks/Python.framework/Versions/3.11/lib/python3.11/site-packages (from matplotlib) (1.2.0)\n",
      "Requirement already satisfied: cycler>=0.10 in /Library/Frameworks/Python.framework/Versions/3.11/lib/python3.11/site-packages (from matplotlib) (0.12.1)\n",
      "Requirement already satisfied: fonttools>=4.22.0 in /Library/Frameworks/Python.framework/Versions/3.11/lib/python3.11/site-packages (from matplotlib) (4.47.2)\n",
      "Requirement already satisfied: kiwisolver>=1.3.1 in /Library/Frameworks/Python.framework/Versions/3.11/lib/python3.11/site-packages (from matplotlib) (1.4.5)\n",
      "Requirement already satisfied: numpy<2,>=1.21 in /Library/Frameworks/Python.framework/Versions/3.11/lib/python3.11/site-packages (from matplotlib) (1.25.2)\n",
      "Requirement already satisfied: packaging>=20.0 in /Library/Frameworks/Python.framework/Versions/3.11/lib/python3.11/site-packages (from matplotlib) (23.1)\n",
      "Requirement already satisfied: pillow>=8 in /Library/Frameworks/Python.framework/Versions/3.11/lib/python3.11/site-packages (from matplotlib) (10.2.0)\n",
      "Requirement already satisfied: pyparsing>=2.3.1 in /Library/Frameworks/Python.framework/Versions/3.11/lib/python3.11/site-packages (from matplotlib) (3.1.1)\n",
      "Requirement already satisfied: python-dateutil>=2.7 in /Library/Frameworks/Python.framework/Versions/3.11/lib/python3.11/site-packages (from matplotlib) (2.8.2)\n",
      "Requirement already satisfied: six>=1.5 in /Library/Frameworks/Python.framework/Versions/3.11/lib/python3.11/site-packages (from python-dateutil>=2.7->matplotlib) (1.16.0)\n",
      "\n",
      "\u001b[1m[\u001b[0m\u001b[34;49mnotice\u001b[0m\u001b[1;39;49m]\u001b[0m\u001b[39;49m A new release of pip is available: \u001b[0m\u001b[31;49m23.2.1\u001b[0m\u001b[39;49m -> \u001b[0m\u001b[32;49m23.3.2\u001b[0m\n",
      "\u001b[1m[\u001b[0m\u001b[34;49mnotice\u001b[0m\u001b[1;39;49m]\u001b[0m\u001b[39;49m To update, run: \u001b[0m\u001b[32;49mpip3 install --upgrade pip\u001b[0m\n"
     ]
    }
   ],
   "source": [
    "!pip3 install matplotlib"
   ]
  },
  {
   "cell_type": "code",
   "execution_count": 88,
   "metadata": {
    "id": "zYQ-Rvt5JVV4"
   },
   "outputs": [],
   "source": [
    "import matplotlib.pyplot as plt\n"
   ]
  },
  {
   "cell_type": "code",
   "execution_count": null,
   "metadata": {
    "colab": {
     "base_uri": "https://localhost:8080/",
     "height": 311
    },
    "id": "o_xk3fINHzFy",
    "outputId": "d4ce265b-54f0-49f7-e977-4d5dc46637cf"
   },
   "outputs": [],
   "source": [
    "plt.plot(np.log10(regs), uni_train_accs,  label = \"training\")\n",
    "plt.plot(np.log10(regs), uni_dev_accs,  label = \"testing\")\n",
    "plt.title(\"Unigram Accuracy\")\n",
    "plt.xlabel(\"lambda values (log10)\")\n",
    "plt.ylabel(\"accuracy\")\n",
    "plt.legend()"
   ]
  },
  {
   "cell_type": "code",
   "execution_count": 92,
   "metadata": {},
   "outputs": [
    {
     "data": {
      "text/plain": [
       "([99.6820809248555,\n",
       "  99.63872832369943,\n",
       "  99.6820809248555,\n",
       "  99.73988439306359,\n",
       "  99.63872832369943,\n",
       "  99.65317919075144,\n",
       "  99.66763005780346,\n",
       "  99.63872832369943],\n",
       " [77.63761467889908,\n",
       "  77.29357798165138,\n",
       "  77.29357798165138,\n",
       "  76.37614678899082,\n",
       "  77.5229357798165,\n",
       "  77.5229357798165,\n",
       "  77.5229357798165,\n",
       "  77.40825688073394])"
      ]
     },
     "execution_count": 92,
     "metadata": {},
     "output_type": "execute_result"
    }
   ],
   "source": [
    "uni_train_accs, uni_dev_accs"
   ]
  },
  {
   "cell_type": "code",
   "execution_count": 90,
   "metadata": {
    "colab": {
     "base_uri": "https://localhost:8080/",
     "height": 311
    },
    "id": "a86-nnCdHzip",
    "outputId": "5ab7726a-4bea-4dd2-c5ac-3b8d2b253e32"
   },
   "outputs": [
    {
     "data": {
      "text/plain": [
       "<matplotlib.legend.Legend at 0x127f4e350>"
      ]
     },
     "execution_count": 90,
     "metadata": {},
     "output_type": "execute_result"
    },
    {
     "data": {
      "image/png": "[encoded data removed]",
      "text/plain": [
       "<Figure size 640x480 with 1 Axes>"
      ]
     },
     "metadata": {},
     "output_type": "display_data"
    }
   ],
   "source": [
    "plt.plot(np.log10(regs), bi_train_accs,  label = \"training\")\n",
    "plt.plot(np.log10(regs), bi_dev_accs,  label = \"testing\")\n",
    "plt.title(\"Bigram Accuracy\")\n",
    "plt.xlabel(\"lambda values (log10)\")\n",
    "plt.ylabel(\"accuracy\")\n",
    "plt.legend()"
   ]
  },
  {
   "cell_type": "code",
   "execution_count": 91,
   "metadata": {},
   "outputs": [
    {
     "data": {
      "text/plain": [
       "([100.0, 100.0, 100.0, 100.0, 100.0, 100.0, 99.98554913294798, 100.0],\n",
       " [64.22018348623853,\n",
       "  64.56422018348624,\n",
       "  64.56422018348624,\n",
       "  64.44954128440367,\n",
       "  63.64678899082569,\n",
       "  63.99082568807339,\n",
       "  64.10550458715596,\n",
       "  63.76146788990825])"
      ]
     },
     "execution_count": 91,
     "metadata": {},
     "output_type": "execute_result"
    }
   ],
   "source": [
    "bi_train_accs, bi_dev_accs"
   ]
  },
  {
   "cell_type": "markdown",
   "metadata": {},
   "source": [
    "### RESPONSE 2b:\n",
    "I notice that it doesnt change too much. I expected more of difference  between using the regularizer and not using it. I would imagine since this is high dimensional data that L2 would help increase testing accuracy. Perhaps the features are too sparse for regularizers make a big enough impact."
   ]
  },
  {
   "cell_type": "code",
   "execution_count": null,
   "metadata": {},
   "outputs": [],
   "source": []
  }
 ],
 "metadata": {
  "colab": {
   "collapsed_sections": [],
   "name": "Morgan_Classification (COS484 S2022).ipynb",
   "provenance": []
  },
  "kernelspec": {
   "display_name": "Python 3 (ipykernel)",
   "language": "python",
   "name": "python3"
  },
  "language_info": {
   "codemirror_mode": {
    "name": "ipython",
    "version": 3
   },
   "file_extension": ".py",
   "mimetype": "text/x-python",
   "name": "python",
   "nbconvert_exporter": "python",
   "pygments_lexer": "ipython3",
   "version": "3.11.5"
  }
 },
 "nbformat": 4,
 "nbformat_minor": 4
}
